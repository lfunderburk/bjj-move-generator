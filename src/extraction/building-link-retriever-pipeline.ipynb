{
 "cells": [
  {
   "cell_type": "code",
   "execution_count": 1,
   "metadata": {},
   "outputs": [
    {
     "name": "stderr",
     "output_type": "stream",
     "text": [
      "/Users/macpro/anaconda3/envs/llm-bjj-env/lib/python3.10/site-packages/tqdm/auto.py:21: TqdmWarning: IProgress not found. Please update jupyter and ipywidgets. See https://ipywidgets.readthedocs.io/en/stable/user_install.html\n",
      "  from .autonotebook import tqdm as notebook_tqdm\n"
     ]
    }
   ],
   "source": [
    "from haystack.components.fetchers.link_content import LinkContentFetcher\n",
    "from haystack.components.converters import HTMLToDocument\n",
    "from haystack.components.preprocessors import DocumentSplitter\n",
    "from haystack.components.rankers import TransformersSimilarityRanker\n",
    "from haystack.components.generators import GPTGenerator\n",
    "from haystack.components.builders.prompt_builder import PromptBuilder\n",
    "from haystack import Pipeline\n",
    "from haystack.components.retrievers import InMemoryBM25Retriever\n",
    "from haystack.document_stores.in_memory import InMemoryDocumentStore\n",
    "from haystack.dataclasses import Document\n",
    "from haystack.components.writers import DocumentWriter\n",
    "\n",
    "from dotenv import load_dotenv\n",
    "import os\n",
    "\n",
    "load_dotenv(\"../../.env\")\n",
    "\n",
    "openai_api_key = os.getenv(\"OPENAI_API_KEY\")\n"
   ]
  },
  {
   "cell_type": "code",
   "execution_count": 17,
   "metadata": {},
   "outputs": [],
   "source": [
    "with open(\"urls.txt\", \"r\") as f:\n",
    "    urls = f.readlines()\n",
    "\n",
    "clean_urls = [url.strip() for url in urls]"
   ]
  },
  {
   "cell_type": "code",
   "execution_count": 3,
   "metadata": {},
   "outputs": [],
   "source": [
    "document_store = InMemoryDocumentStore()\n",
    "fetcher = LinkContentFetcher()\n",
    "converter = HTMLToDocument()\n",
    "splitter = DocumentSplitter(split_length=100, split_overlap=5)\n",
    "writer = DocumentWriter(document_store = document_store)\n",
    "retriever = InMemoryBM25Retriever(document_store = document_store)\n",
    "ranker = TransformersSimilarityRanker()\n",
    "ranker.warm_up()\n",
    "llm =  GPTGenerator(api_key = openai_api_key, model_name = \"gpt-4\")\n",
    "\n",
    "prompt_template = \"\"\"\n",
    "According to these documents:\n",
    "\n",
    "{% for doc in documents %}\n",
    "  {{ doc.content }}\n",
    "{% endfor %}\n",
    "\n",
    "Answer the given question: {{question}}\n",
    "Answer:\n",
    "\"\"\"\n",
    "\n",
    "\n",
    "prompt_builder = PromptBuilder(template=prompt_template)"
   ]
  },
  {
   "cell_type": "markdown",
   "metadata": {},
   "source": [
    "## Indexing pipeline"
   ]
  },
  {
   "cell_type": "code",
   "execution_count": 4,
   "metadata": {},
   "outputs": [],
   "source": [
    "indexing_pipeline = Pipeline()\n",
    "indexing_pipeline.add_component(instance=fetcher, name=\"fetcher\")\n",
    "indexing_pipeline.add_component(instance=converter, name=\"converter\")\n",
    "indexing_pipeline.add_component( instance=splitter, name=\"splitter\")\n",
    "indexing_pipeline.add_component(instance=writer, name=\"writer\")\n",
    "\n",
    "\n",
    "indexing_pipeline.connect(\"fetcher.streams\", \"converter.sources\")\n",
    "indexing_pipeline.connect(\"converter.documents\", \"splitter.documents\")\n",
    "indexing_pipeline.connect(\"splitter.documents\", \"writer.documents\")"
   ]
  },
  {
   "cell_type": "code",
   "execution_count": 5,
   "metadata": {},
   "outputs": [
    {
     "data": {
      "text/plain": [
       "{'writer': {'documents_written': 176}}"
      ]
     },
     "execution_count": 5,
     "metadata": {},
     "output_type": "execute_result"
    }
   ],
   "source": [
    "indexing_pipeline.run(data={\"fetcher\": {\"urls\": clean_urls}})"
   ]
  },
  {
   "cell_type": "markdown",
   "metadata": {},
   "source": [
    "### RAG Pipeline"
   ]
  },
  {
   "cell_type": "code",
   "execution_count": 6,
   "metadata": {},
   "outputs": [],
   "source": [
    "basic_rag_pipeline = Pipeline()\n",
    "\n",
    "basic_rag_pipeline.add_component(\"retriever\", retriever)\n",
    "basic_rag_pipeline.add_component(\"prompt_builder\", prompt_builder)\n",
    "basic_rag_pipeline.add_component(\"llm\", llm)\n",
    "\n",
    "\n",
    "basic_rag_pipeline.connect(\"retriever\", \"prompt_builder.documents\")\n",
    "basic_rag_pipeline.connect(\"prompt_builder\", \"llm\")\n",
    "\n",
    "basic_rag_pipeline.draw(\"../../images/mechanical_models_rag.png\")"
   ]
  },
  {
   "cell_type": "code",
   "execution_count": 7,
   "metadata": {},
   "outputs": [
    {
     "name": "stderr",
     "output_type": "stream",
     "text": [
      "Ranking by BM25...: 100%|██████████| 176/176 [00:00<00:00, 27803.00 docs/s]\n"
     ]
    }
   ],
   "source": [
    "question = \"Design a complete dominance game plan for a tall person\"\n",
    "\n",
    "response = basic_rag_pipeline.run({\"retriever\": {\"query\": question}, \n",
    "                                   \"prompt_builder\": {\"question\": question}})\n"
   ]
  },
  {
   "cell_type": "code",
   "execution_count": null,
   "metadata": {},
   "outputs": [],
   "source": [
    "response['llm']['replies'][0].split(\"\\n\")"
   ]
  },
  {
   "cell_type": "code",
   "execution_count": 8,
   "metadata": {},
   "outputs": [
    {
     "name": "stderr",
     "output_type": "stream",
     "text": [
      "Ranking by BM25...: 100%|██████████| 176/176 [00:00<00:00, 28066.21 docs/s]\n"
     ]
    }
   ],
   "source": [
    "question = \"Design a sequence of BJJ movements for a blue belt who is\\\n",
    "            female, 192 lbs, and 5'10 tall. Your sequence should apply the mental models presented to you\\\n",
    "            and should enable the competitor to attack and succeed in their attacks,and be able\\\n",
    "            to successfully defend against opponents. Your answer should suggest \\\n",
    "            multiple strategies for dealing with opponents of various weights and heights\\\n",
    "            as well as opponents of the opposite gender.\"\n",
    "\n",
    "response = basic_rag_pipeline.run({\"retriever\": {\"query\": question}, \n",
    "                                   \"prompt_builder\": {\"question\": question}})\n"
   ]
  },
  {
   "cell_type": "code",
   "execution_count": 11,
   "metadata": {},
   "outputs": [
    {
     "data": {
      "text/plain": [
       "[\"Here is a hypothetical sequence of Brazilian Jiu-Jitsu movements developed with the consideration of the mental models presented and drawn upon the general knowledge of BJJ. This sequence is tailored to enhance a tall, strong female competitor's performance, and provide her strategies against opponents of diverse sizes and genders:\",\n",
       " '',\n",
       " '1. Effective Breathing: Our competitor should focus on her breathing to avoid signs of panic and as an effective way to regulate her energy consumption.',\n",
       " '',\n",
       " '2. Stance: The competitor should establish her base with a staggered stance (since taller practitioners often favor it). This stance offers the advantages of both stability and mobility, which are crucial against smaller or heavier opponents. ',\n",
       " '',\n",
       " \"3. Inside Channel Control: She should then seek to control the “inside channel”. Because she's taller than most opponents, she can leverage her longer limbs to dominate this area. Inside channel control will allow her to manipulate opponent's movements using their own body levers.\",\n",
       " '',\n",
       " '4. Strategy: The competitor should employ a blending strategy of utilizing her strength when necessary while also keeping her muscles relaxed. Relaxation in a match could be beneficial in ensuring efficient energy consumption.',\n",
       " '',\n",
       " '5. Stress and Recovery: Besides the in-match strategy, the competitor should keep a balanced training schedule. One that alternates between high-intensity workouts and rest periods. This would ensure that she is always at her best form and avoid overtraining.',\n",
       " '',\n",
       " '6. Single Lever Control: Given her weight, leveraging her strength would be beneficial. Single lever control techniques such as Armbars may work best against lighter opponents where she can achieve a submission with overwhelming force.',\n",
       " '',\n",
       " \"7. Theory of Alignment: Maintaining her alignment (posture, structure, and base) especially against stronger male opponents, is essential. She should aim to break her opponent's alignment while keeping hers intact.\",\n",
       " '',\n",
       " \"Remember, BJJ is a martial art that focuses on technique and leverage, rather than strength and size. So, her game should always be technical, exploiting her strengths, and exploiting her opponents' weaknesses.\"]"
      ]
     },
     "execution_count": 11,
     "metadata": {},
     "output_type": "execute_result"
    }
   ],
   "source": [
    "response['llm']['replies'][0].split(\"\\n\")"
   ]
  },
  {
   "cell_type": "code",
   "execution_count": 19,
   "metadata": {},
   "outputs": [
    {
     "name": "stderr",
     "output_type": "stream",
     "text": [
      "Ranking by BM25...: 100%|██████████| 176/176 [00:00<00:00, 22116.29 docs/s]\n"
     ]
    }
   ],
   "source": [
    "question = \"explain the theory of alignment in BJJ with the documents provided\\\n",
    "            and provide a sequence of movements that demonstrate the theory of alignment\\\n",
    "            in BJJ\"\n",
    "\n",
    "response = basic_rag_pipeline.run({\"retriever\": {\"query\": question}, \n",
    "                                   \"prompt_builder\": {\"question\": question}})\n"
   ]
  },
  {
   "cell_type": "code",
   "execution_count": 20,
   "metadata": {},
   "outputs": [
    {
     "data": {
      "text/plain": [
       "['The theory of alignment in Brazilian Jiu-Jitsu (BJJ), innovated by Rob Biernacki of Island Top Team, is a framework that describes the mechanical aspects of the martial art. It comprises of three components: Posture, Structure, and Base. ',\n",
       " '',\n",
       " '1. Posture - This refers to the effective positioning of essential body parts such as the neck, core, and spine. How one maintains their posture during a BJJ match can significantly impact their performance.',\n",
       " '2. Structure - The concept of structure in the theory of alignment pertains to the efficient usage of your limbs.',\n",
       " '3. Base - The base component alludes to your ability to generate and absorb force relative to your goals set for the match.',\n",
       " '',\n",
       " \"These elements have the potential to multiply your force, thus allowing you to create openings and better attack your opponent’s body. Constant evaluation of every technique is important, considering how well it preserves your alignment and how well it breaks your opponent's alignment.\",\n",
       " '',\n",
       " 'A sequence of movements that demonstrate this theory could be:',\n",
       " '',\n",
       " '1. Assume a staggered stance to benefit from excellent mobility. The rear leg enables quick explosive forward movements, while the front one allows for regressive backward movements.',\n",
       " '2. Utilizing the head as a lever to primarily attack the opponent’s posture, while using the arms and legs to attack their structure. For instance, in case of arms, you can exercise control by manipulating the shoulder, elbow, and wrist joints.',\n",
       " '3. Apply ratchet control that enables inclusion of rotational force to your attack. If the opponent tries to use strength to defend, rapidly pull down on their head and twist their neck to destabilize their posture and structure.',\n",
       " '4. Apply force using short, explosive movements rather than long, extended pushes. This throws the opponent off their base.',\n",
       " '   ',\n",
       " \"In a nutshell, the theory of alignment's understanding is not just integral for enhancing your offense but also a defense in the realm of BJJ.\"]"
      ]
     },
     "execution_count": 20,
     "metadata": {},
     "output_type": "execute_result"
    }
   ],
   "source": [
    "response['llm']['replies'][0].split(\"\\n\")"
   ]
  },
  {
   "cell_type": "code",
   "execution_count": 23,
   "metadata": {},
   "outputs": [
    {
     "name": "stderr",
     "output_type": "stream",
     "text": [
      "Ranking by BM25...: 100%|██████████| 176/176 [00:00<00:00, 34215.41 docs/s]\n"
     ]
    },
    {
     "data": {
      "text/plain": [
       "[\"Ratchet control is a technique used when controlling a limb or the head, where rotation is added to increase effectiveness and leverage. This is typically more powerful if the lever is kept at a perpendicular angle. It can be either internal or external, based on the direction of rotation. Internal ratchet control rotates a limb against its natural range of motion, such as in Kimuras and heel hooks. External ratchet control rotates a limb into its natural range of motion. This technique is particularly effective because it attacks the opponent's posture and/or skeletal structure, reducing their ability to rely on their muscles. It is one of the most effective ways to complete a submission when an opponent is using strength to defend.\"]"
      ]
     },
     "execution_count": 23,
     "metadata": {},
     "output_type": "execute_result"
    }
   ],
   "source": [
    "question = \"what is ratchet control?\"\n",
    "\n",
    "response = basic_rag_pipeline.run({\"retriever\": {\"query\": question}, \n",
    "                                   \"prompt_builder\": {\"question\": question}})\n",
    "\n",
    "response['llm']['replies'][0].split(\"\\n\")\n"
   ]
  },
  {
   "cell_type": "code",
   "execution_count": null,
   "metadata": {},
   "outputs": [],
   "source": []
  }
 ],
 "metadata": {
  "kernelspec": {
   "display_name": "llm-bjj-env",
   "language": "python",
   "name": "python3"
  },
  "language_info": {
   "codemirror_mode": {
    "name": "ipython",
    "version": 3
   },
   "file_extension": ".py",
   "mimetype": "text/x-python",
   "name": "python",
   "nbconvert_exporter": "python",
   "pygments_lexer": "ipython3",
   "version": "3.10.0"
  }
 },
 "nbformat": 4,
 "nbformat_minor": 2
}
