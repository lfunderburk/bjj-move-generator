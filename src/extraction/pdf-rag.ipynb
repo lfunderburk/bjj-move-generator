{
 "cells": [
  {
   "cell_type": "code",
   "execution_count": 7,
   "metadata": {},
   "outputs": [],
   "source": [
    "\n",
    "from haystack.components.generators import GPTGenerator\n",
    "from haystack.components.builders.prompt_builder import PromptBuilder\n",
    "from haystack import Pipeline\n",
    "from haystack.components.retrievers import InMemoryBM25Retriever\n",
    "from haystack.dataclasses import Document\n",
    "from haystack.document_stores import InMemoryDocumentStore\n",
    "from haystack.components.converters import PyPDFToDocument\n",
    "from haystack.components.preprocessors import DocumentCleaner\n",
    "from haystack.components.preprocessors import DocumentSplitter\n",
    "from haystack.components.writers import DocumentWriter\n",
    "from pathlib import Path\n",
    "from dotenv import load_dotenv\n",
    "import os\n",
    "\n",
    "load_dotenv(\"../../.env\")\n",
    "\n",
    "openai_api_key = os.getenv(\"OPENAI_API_KEY\")\n"
   ]
  },
  {
   "cell_type": "markdown",
   "metadata": {},
   "source": [
    "### Indexing pipeline "
   ]
  },
  {
   "cell_type": "code",
   "execution_count": 8,
   "metadata": {},
   "outputs": [
    {
     "data": {
      "text/plain": [
       "{'writer': {'documents_written': 124}}"
      ]
     },
     "execution_count": 8,
     "metadata": {},
     "output_type": "execute_result"
    }
   ],
   "source": [
    "document_store = InMemoryDocumentStore()\n",
    "\n",
    "pipeline = Pipeline()\n",
    "pipeline.add_component(\"converter\", PyPDFToDocument())\n",
    "pipeline.add_component(\"cleaner\", DocumentCleaner())\n",
    "pipeline.add_component(\"splitter\", DocumentSplitter(split_by=\"sentence\", split_length=5))\n",
    "pipeline.add_component(\"writer\", DocumentWriter(document_store=document_store))\n",
    "pipeline.connect(\"converter\", \"cleaner\")\n",
    "pipeline.connect(\"cleaner\", \"splitter\")\n",
    "pipeline.connect(\"splitter\", \"writer\")\n",
    "\n",
    "pipeline.run({\"converter\": {\"sources\": [Path(\"./BJJMM_1_-_Mechanical_Models.pdf\")]}})"
   ]
  },
  {
   "cell_type": "markdown",
   "metadata": {},
   "source": [
    "### RAG pipeline"
   ]
  },
  {
   "cell_type": "code",
   "execution_count": 10,
   "metadata": {},
   "outputs": [],
   "source": [
    "llm =  GPTGenerator(api_key = openai_api_key, model_name = \"gpt-4\")\n",
    "\n",
    "prompt_template = \"\"\"\n",
    "According to these documents:\n",
    "\n",
    "{% for doc in documents %}\n",
    "  {{ doc.content }}\n",
    "{% endfor %}\n",
    "\n",
    "Answer the given question: {{question}}\n",
    "Answer:\n",
    "\"\"\"\n",
    "\n",
    "\n",
    "prompt_builder = PromptBuilder(template=prompt_template)\n",
    "retriever = InMemoryBM25Retriever(document_store = document_store)\n"
   ]
  },
  {
   "cell_type": "code",
   "execution_count": 11,
   "metadata": {},
   "outputs": [],
   "source": [
    "basic_rag_pipeline = Pipeline()\n",
    "\n",
    "basic_rag_pipeline.add_component(\"retriever\", retriever)\n",
    "basic_rag_pipeline.add_component(\"prompt_builder\", prompt_builder)\n",
    "basic_rag_pipeline.add_component(\"llm\", llm)\n",
    "\n",
    "\n",
    "basic_rag_pipeline.connect(\"retriever\", \"prompt_builder.documents\")\n",
    "basic_rag_pipeline.connect(\"prompt_builder\", \"llm\")\n",
    "\n",
    "basic_rag_pipeline.draw(\"../../images/mechanical_models_rag_pdf.png\")"
   ]
  },
  {
   "cell_type": "code",
   "execution_count": 15,
   "metadata": {},
   "outputs": [
    {
     "name": "stderr",
     "output_type": "stream",
     "text": [
      "Ranking by BM25...:   0%|          | 0/124 [00:00<?, ? docs/s]"
     ]
    },
    {
     "name": "stderr",
     "output_type": "stream",
     "text": [
      "Ranking by BM25...: 100%|██████████| 124/124 [00:00<00:00, 22270.00 docs/s]\n"
     ]
    }
   ],
   "source": [
    "question = \"Tell me about the mechanical models of the BJJ\"\n",
    "\n",
    "response = basic_rag_pipeline.run({\"retriever\": {\"query\": question}, \n",
    "                                   \"prompt_builder\": {\"question\": question}})\n"
   ]
  },
  {
   "cell_type": "code",
   "execution_count": 18,
   "metadata": {},
   "outputs": [
    {
     "data": {
      "text/plain": [
       "['The mechanical models of Brazilian Jiu-Jitsu (BJJ) as mentioned in the documents by Steve and Matt Kwan are categorized into several sections.',\n",
       " '',\n",
       " \"1. Theory of Alignment which is about preserving your posture, structure, and base while attempting to disrupt your opponent's. Alignment serves as the framework for all mechanical aspects of BJJ.\",\n",
       " '',\n",
       " '2. Core Mechanics which are a set of basic principles that dictate the fundamentals and structure of the technique in Brazilian Jiu-Jitsu.',\n",
       " '',\n",
       " '3. Anatomic Hierarchy which focuses on controlling and attacking the limbs and joints for optimum advantage.',\n",
       " '',\n",
       " '4. Different types of Guard, which can be classified as hook-based, clamp-based, frame-based, or hybrid to maintain a defensive position against the opponent.',\n",
       " '',\n",
       " '5. Mental Strategy for Recovery: acknowledging the role of mental recovery alongside physical training.',\n",
       " '',\n",
       " '6. Connection Correlation, Force Vectors, and Leading Edges for movement and control and understanding the flow of force.',\n",
       " '',\n",
       " '7. Defensive Mechanics like limb coiling and controlled breathing techniques and offensive mechanics like breaking mechanics and choking mechanics.',\n",
       " '',\n",
       " '8. The concept of Kinetic Chains - how joints affect each other when in motion, and how connecting limbs make your frame stronger.',\n",
       " '',\n",
       " 'To comprehend and apply these models more effectively, the authors have also organized these models in the order they think practitioners should learn them.']"
      ]
     },
     "execution_count": 18,
     "metadata": {},
     "output_type": "execute_result"
    }
   ],
   "source": [
    "response['llm']['replies'][0].split(\"\\n\")"
   ]
  },
  {
   "cell_type": "code",
   "execution_count": 19,
   "metadata": {},
   "outputs": [
    {
     "name": "stderr",
     "output_type": "stream",
     "text": [
      "Ranking by BM25...: 100%|██████████| 124/124 [00:00<00:00, 16702.86 docs/s]\n"
     ]
    }
   ],
   "source": [
    "question = \"Tell me the most important aspects of theory of alignment, how can I use it in my BJJ?\"\n",
    "\n",
    "response = basic_rag_pipeline.run({\"retriever\": {\"query\": question}, \n",
    "                                   \"prompt_builder\": {\"question\": question}})\n"
   ]
  },
  {
   "cell_type": "code",
   "execution_count": 20,
   "metadata": {},
   "outputs": [
    {
     "data": {
      "text/plain": [
       "['The Theory of Alignment in Brazilian Jiu-Jitsu (BJJ) refers to the ability to maintain your own posture, structure, and base, while trying to disrupt these elements in your opponent. ',\n",
       " '',\n",
       " '1. Posture: It refers to the effective positioning of your neck, core, and spine. Good posture in BJJ means creating a barrier or defense with your body positioning that makes it difficult for your opponent to attack you. For example, pulling down on your opponent’s head can break their posture.',\n",
       " '',\n",
       " \"2. Structure: It's about efficient use of your limbs. Each limb's positioning can allow you to either maintain your own structure or disrupt your opponent's. Utilizing the arms and legs as levers can primarily attack your opponent's structure.\",\n",
       " '',\n",
       " '3. Base: This is your ability to generate and absorb force relative to your goals. It refers to the way you distribute your weight and how you are connected to the ground. A good base can help you maintain balance and generate power for your attacks.',\n",
       " '',\n",
       " \"In regards to application, every technique in BJJ should be evaluated based on how well it preserves your alignment, and how well it breaks your opponent’s alignment. This means understanding how each move and position impacts these three components. Additionally, the concept of 'alignment over position' implies that it's more critical to maintain good alignment than it is to achieve a specific position.\",\n",
       " '',\n",
       " \"In order to assist with this, you could also utilize the concept of 'critical control points' - these are specific areas you can control on your opponent's body to better break their alignment. The head, for example, can be used as a lever to attack your opponent's posture. \",\n",
       " '',\n",
       " \"Lastly, 'ratchet control' is an another effective tool that can be used to complete a submission when your opponent is using strength to defend. It's enabled by attacking your opponent’s posture and/or structure.\"]"
      ]
     },
     "execution_count": 20,
     "metadata": {},
     "output_type": "execute_result"
    }
   ],
   "source": [
    "response['llm']['replies'][0].split(\"\\n\")"
   ]
  },
  {
   "cell_type": "code",
   "execution_count": 21,
   "metadata": {},
   "outputs": [
    {
     "name": "stderr",
     "output_type": "stream",
     "text": [
      "Ranking by BM25...: 100%|██████████| 124/124 [00:00<00:00, 16309.50 docs/s]\n"
     ]
    }
   ],
   "source": [
    "question = \"Suggest BJJ positions that enable me to use the theory of alignment\"\n",
    "\n",
    "response = basic_rag_pipeline.run({\"retriever\": {\"query\": question}, \n",
    "                                   \"prompt_builder\": {\"question\": question}})\n"
   ]
  },
  {
   "cell_type": "code",
   "execution_count": 22,
   "metadata": {},
   "outputs": [
    {
     "data": {
      "text/plain": [
       "['The documents do not provide specific Brazilian Jiu-Jitsu (BJJ) positions that enable the use of the theory of alignment.']"
      ]
     },
     "execution_count": 22,
     "metadata": {},
     "output_type": "execute_result"
    }
   ],
   "source": [
    "response['llm']['replies'][0].split(\"\\n\")"
   ]
  },
  {
   "cell_type": "code",
   "execution_count": null,
   "metadata": {},
   "outputs": [],
   "source": []
  }
 ],
 "metadata": {
  "kernelspec": {
   "display_name": "llm-bjj-env",
   "language": "python",
   "name": "python3"
  },
  "language_info": {
   "codemirror_mode": {
    "name": "ipython",
    "version": 3
   },
   "file_extension": ".py",
   "mimetype": "text/x-python",
   "name": "python",
   "nbconvert_exporter": "python",
   "pygments_lexer": "ipython3",
   "version": "3.10.0"
  }
 },
 "nbformat": 4,
 "nbformat_minor": 2
}
